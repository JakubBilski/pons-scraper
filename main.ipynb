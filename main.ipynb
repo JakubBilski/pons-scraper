{
 "cells": [
  {
   "cell_type": "code",
   "execution_count": 1,
   "metadata": {},
   "outputs": [],
   "source": [
    "import requests\n",
    "\n",
    "from tqdm import tqdm\n",
    "from bs4 import BeautifulSoup\n"
   ]
  },
  {
   "cell_type": "code",
   "execution_count": 17,
   "metadata": {},
   "outputs": [],
   "source": [
    "def find_best_plural_form(word, suffix):\n",
    "    len_w = len(word)\n",
    "    len_s = len(suffix)\n",
    "    best_offset = len_w\n",
    "    best_offset_score = 1\n",
    "    for offset in range(max(0, len_w - len_s), len_w):\n",
    "        offset_score = sum([word[offset+i] == suffix[i] for i in range(min(len_s, len_w-offset))])\n",
    "        if offset_score > best_offset_score:\n",
    "            best_offset = offset\n",
    "            best_offset_score = offset_score\n",
    "    return 'die '+ word[:best_offset] + suffix"
   ]
  },
  {
   "cell_type": "code",
   "execution_count": 13,
   "metadata": {},
   "outputs": [],
   "source": [
    "def parse_noun(word_romhead, word_h2):\n",
    "    translation = ' '.join([a.text for a in word_romhead.find(class_='target').findAll('a', recursive=False)]).replace('  ', ' ')\n",
    "    if \"r.m.\" in word_h2.text:\n",
    "        article = \"der\"\n",
    "    elif \"r.ż.\" in word_h2.text:\n",
    "        article = \"die\"\n",
    "    else:\n",
    "        article = \"das\"\n",
    "    is_zenski = \"r.ż.\" in word_romhead.find(class_='target').text\n",
    "    word = str(word_h2)\n",
    "    word = word[word.index('>')+1:]\n",
    "    word = word[:word.index('<')]\n",
    "    word = word.replace(' ', '')\n",
    "    word = word.replace('\\n', '')\n",
    "    flexion_text = word_h2.find(class_='flexion').text\n",
    "    plural_suffix = flexion_text[flexion_text.index(',')+2:-1]\n",
    "    if plural_suffix[0] == '‑':\n",
    "        plural_form = find_best_plural_form(word, plural_suffix[1:])\n",
    "    elif 'bez l.mn.' in plural_suffix:\n",
    "        plural_form = '-'\n",
    "    else:\n",
    "        plural_form = 'die ' + plural_suffix\n",
    "    zwroty_divs = [\n",
    "        div for div\n",
    "        in word_romhead.findAll(class_='translations')\n",
    "        if 'zwroty' in div.find('h3').text\n",
    "    ]\n",
    "    if len(zwroty_divs) == 0:\n",
    "        return translation, f\"{article} {word}, {plural_form}\\n\"\n",
    "    else:\n",
    "        zwrot = ' '.join([\n",
    "            a.text for a in zwroty_divs[0].findAll(\n",
    "                class_='source'\n",
    "            )[0].findAll('span')[0].findAll(['a', 'strong'])\n",
    "        ])\n",
    "        zwrot = zwrot.replace('  ', ' ')\n",
    "\n",
    "        zwrot_translation = ' '.join([\n",
    "            a.text for a in zwroty_divs[0].findAll(\n",
    "                class_='target'\n",
    "            )[0].findAll('a')\n",
    "        ])\n",
    "        zwrot_translation = zwrot_translation.replace('  ', ' ')\n",
    "        return translation, f\"{article} {word}, {plural_form}\\n\\n{zwrot}\\n({zwrot_translation})\\n\"\n",
    "\n",
    "\n",
    "def parse_verb(word_romhead, word_h2):\n",
    "    translation = ' '.join([a.text for a in word_romhead.find(class_='target').findAll('a', recursive=False)]).replace('  ', ' ')\n",
    "    word = ' '.join([x.text for x in word_h2.findAll(string=True, recursive=False)])\n",
    "    word = word.replace(' ', '')\n",
    "    word = word.replace('\\n', '')\n",
    "    return translation, word"
   ]
  },
  {
   "cell_type": "code",
   "execution_count": 14,
   "metadata": {},
   "outputs": [],
   "source": [
    "def create_card(word):\n",
    "    url = f\"https://pl.pons.com/t%C5%82umaczenie/niemiecki-polski/{word}\"\n",
    "    try:\n",
    "        page = requests.get(url)\n",
    "    except:\n",
    "        print(f\"Unable to get {word}, site {url} doesn't respond\")\n",
    "        return None, None\n",
    "    soup = BeautifulSoup(page.content, \"html.parser\")\n",
    "    front = ''\n",
    "    reverse = ''\n",
    "\n",
    "    word_romheads = soup.findAll(class_=\"rom first\")\n",
    "    questions = []\n",
    "    answers = []\n",
    "\n",
    "    for word_romhead in word_romheads:\n",
    "        if \"ytkownika\" in word_romhead.text:\n",
    "            # skip user-created translations\n",
    "            continue\n",
    "        word_h2 = word_romhead.find(\"h2\")\n",
    "        word_class = word_h2.find(class_='wordclass').text\n",
    "        if 'CZ.' in word_class:\n",
    "            question, answer = parse_verb(word_romhead, word_h2)\n",
    "        elif 'RZ.' in word_class:\n",
    "            question, answer = parse_noun(word_romhead, word_h2)\n",
    "        else:\n",
    "            continue\n",
    "        questions.append(question)\n",
    "        answers.append(answer)\n",
    "        if len(questions) > 1:\n",
    "            break\n",
    "\n",
    "    for i, q in enumerate(questions):\n",
    "        front += f'{i+1}: {q}\\n'\n",
    "\n",
    "    for i, a in enumerate(answers):\n",
    "        reverse += f'{a}\\n\\n'\n",
    "    \n",
    "    return front, reverse\n",
    "\n"
   ]
  },
  {
   "cell_type": "code",
   "execution_count": 20,
   "metadata": {},
   "outputs": [
    {
     "name": "stderr",
     "output_type": "stream",
     "text": [
      "100%|██████████| 5/5 [00:07<00:00,  1.43s/it]\n"
     ]
    }
   ],
   "source": [
    "fronts = []\n",
    "reverses = []\n",
    "words = ['Katze', 'Land', 'Tochter', 'Lebensraum', 'Korkenzieher']\n",
    "# words = ['Lebensraum']\n",
    "for word in tqdm(words):\n",
    "    front, reverse = create_card(word)\n",
    "    if front is not None:\n",
    "        fronts.append(front)\n",
    "        reverses.append(reverse)"
   ]
  },
  {
   "cell_type": "code",
   "execution_count": 19,
   "metadata": {},
   "outputs": [
    {
     "name": "stdout",
     "output_type": "stream",
     "text": [
      "1: przestrzeń życiowa\n",
      "\n",
      "-----\n",
      "der Le̱bensraum, die Le̱bensräume\n",
      "\n",
      "\n",
      "\n",
      "_________\n"
     ]
    }
   ],
   "source": [
    "for front, reverse in zip(fronts, reverses):\n",
    "    print(front)\n",
    "    print('-----')\n",
    "    print(reverse)\n",
    "    print('_________')"
   ]
  },
  {
   "cell_type": "code",
   "execution_count": 21,
   "metadata": {},
   "outputs": [],
   "source": [
    "import csv\n",
    "with open('eggs.csv', 'w', newline='') as csvfile:\n",
    "    spamwriter = csv.writer(csvfile, delimiter=';', quotechar='\"', quoting=csv.QUOTE_MINIMAL)\n",
    "    for f, r in zip(fronts, reverses):\n",
    "        spamwriter.writerow([f, r])"
   ]
  }
 ],
 "metadata": {
  "kernelspec": {
   "display_name": "scraper",
   "language": "python",
   "name": "python3"
  },
  "language_info": {
   "codemirror_mode": {
    "name": "ipython",
    "version": 3
   },
   "file_extension": ".py",
   "mimetype": "text/x-python",
   "name": "python",
   "nbconvert_exporter": "python",
   "pygments_lexer": "ipython3",
   "version": "3.9.17"
  },
  "orig_nbformat": 4
 },
 "nbformat": 4,
 "nbformat_minor": 2
}
